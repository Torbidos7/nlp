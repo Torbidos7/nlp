{
 "cells": [
  {
   "cell_type": "markdown",
   "metadata": {},
   "source": [
    "# Regex\n",
    "They are pattern matching tools that can be used to search, edit and manipulate text. They are used in almost all programming languages."
   ]
  },
  {
   "cell_type": "code",
   "execution_count": 1,
   "metadata": {},
   "outputs": [],
   "source": [
    "import re\n",
    "\n",
    "regex = re.compile(r'(\\d+)-(\\d+) (\\w): (\\w+)')\n",
    "valid = 0\n",
    "\n",
    "\n",
    "def is_valid(line):\n",
    "    match = regex.match(line)\n",
    "    min = int(match.group(1))\n",
    "    max = int(match.group(2))\n",
    "    char = match.group(3)\n",
    "    password = match.group(4)\n",
    "    count = password.count(char)\n",
    "    return min <= count <= max\n",
    "\n",
    "tests = [\n",
    "    ('1-3 a: abcde', True),\n",
    "    ('1-3 b: cdefg', False),\n",
    "    ('2-9 c: ccccccccc', True),\n",
    "]   \n",
    "\n",
    "for test in tests:\n",
    "    assert is_valid(test[0]) == test[1]\n",
    "    "
   ]
  }
 ],
 "metadata": {
  "kernelspec": {
   "display_name": "Python 3",
   "language": "python",
   "name": "python3"
  },
  "language_info": {
   "codemirror_mode": {
    "name": "ipython",
    "version": 3
   },
   "file_extension": ".py",
   "mimetype": "text/x-python",
   "name": "python",
   "nbconvert_exporter": "python",
   "pygments_lexer": "ipython3",
   "version": "3.11.3"
  }
 },
 "nbformat": 4,
 "nbformat_minor": 2
}
