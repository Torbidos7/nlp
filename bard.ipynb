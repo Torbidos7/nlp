{
 "cells": [
  {
   "cell_type": "code",
   "execution_count": 3,
   "metadata": {},
   "outputs": [
    {
     "ename": "Exception",
     "evalue": "Response status code is not 200. Response Status is 404",
     "output_type": "error",
     "traceback": [
      "\u001b[1;31m---------------------------------------------------------------------------\u001b[0m",
      "\u001b[1;31mException\u001b[0m                                 Traceback (most recent call last)",
      "Cell \u001b[1;32mIn[3], line 6\u001b[0m\n\u001b[0;32m      1\u001b[0m \u001b[38;5;28;01mfrom\u001b[39;00m \u001b[38;5;21;01mbardapi\u001b[39;00m \u001b[38;5;28;01mimport\u001b[39;00m BardCookies\n\u001b[0;32m      2\u001b[0m \u001b[38;5;28;01mfrom\u001b[39;00m \u001b[38;5;21;01mconfig\u001b[39;00m \u001b[38;5;28;01mimport\u001b[39;00m cookie_dict\n\u001b[1;32m----> 6\u001b[0m bard \u001b[38;5;241m=\u001b[39m \u001b[43mBardCookies\u001b[49m\u001b[43m(\u001b[49m\u001b[43mcookie_dict\u001b[49m\u001b[38;5;241;43m=\u001b[39;49m\u001b[43mcookie_dict\u001b[49m\u001b[43m)\u001b[49m\n\u001b[0;32m      8\u001b[0m \u001b[38;5;28mprint\u001b[39m(bard\u001b[38;5;241m.\u001b[39mget_answer(\u001b[38;5;124m\"\u001b[39m\u001b[38;5;124mHello\u001b[39m\u001b[38;5;124m\"\u001b[39m))\n",
      "File \u001b[1;32mc:\\Users\\danyb\\miniconda3\\envs\\llm\\Lib\\site-packages\\bardapi\\core_cookies.py:53\u001b[0m, in \u001b[0;36mBardCookies.__init__\u001b[1;34m(self, cookie_dict, timeout, proxies, session, conversation_id, google_translator_api_key, language, run_code, token_from_browser)\u001b[0m\n\u001b[0;32m     51\u001b[0m \u001b[38;5;28mself\u001b[39m\u001b[38;5;241m.\u001b[39mchoice_id \u001b[38;5;241m=\u001b[39m \u001b[38;5;124m\"\u001b[39m\u001b[38;5;124m\"\u001b[39m\n\u001b[0;32m     52\u001b[0m \u001b[38;5;28mself\u001b[39m\u001b[38;5;241m.\u001b[39msession \u001b[38;5;241m=\u001b[39m \u001b[38;5;28mself\u001b[39m\u001b[38;5;241m.\u001b[39m_get_session(session)\n\u001b[1;32m---> 53\u001b[0m \u001b[38;5;28mself\u001b[39m\u001b[38;5;241m.\u001b[39mSNlM0e \u001b[38;5;241m=\u001b[39m \u001b[38;5;28;43mself\u001b[39;49m\u001b[38;5;241;43m.\u001b[39;49m\u001b[43m_get_snim0e\u001b[49m\u001b[43m(\u001b[49m\u001b[43m)\u001b[49m\n\u001b[0;32m     54\u001b[0m \u001b[38;5;28mself\u001b[39m\u001b[38;5;241m.\u001b[39mlanguage \u001b[38;5;241m=\u001b[39m language \u001b[38;5;129;01mor\u001b[39;00m os\u001b[38;5;241m.\u001b[39mgetenv(\u001b[38;5;124m\"\u001b[39m\u001b[38;5;124m_BARD_API_LANG\u001b[39m\u001b[38;5;124m\"\u001b[39m)\n\u001b[0;32m     55\u001b[0m \u001b[38;5;28mself\u001b[39m\u001b[38;5;241m.\u001b[39mrun_code \u001b[38;5;241m=\u001b[39m run_code \u001b[38;5;129;01mor\u001b[39;00m \u001b[38;5;28;01mFalse\u001b[39;00m\n",
      "File \u001b[1;32mc:\\Users\\danyb\\miniconda3\\envs\\llm\\Lib\\site-packages\\bardapi\\core_cookies.py:114\u001b[0m, in \u001b[0;36mBardCookies._get_snim0e\u001b[1;34m(self)\u001b[0m\n\u001b[0;32m    110\u001b[0m resp \u001b[38;5;241m=\u001b[39m \u001b[38;5;28mself\u001b[39m\u001b[38;5;241m.\u001b[39msession\u001b[38;5;241m.\u001b[39mget(\n\u001b[0;32m    111\u001b[0m     \u001b[38;5;124m\"\u001b[39m\u001b[38;5;124mhttps://bard.google.com/\u001b[39m\u001b[38;5;124m\"\u001b[39m, timeout\u001b[38;5;241m=\u001b[39m\u001b[38;5;28mself\u001b[39m\u001b[38;5;241m.\u001b[39mtimeout, proxies\u001b[38;5;241m=\u001b[39m\u001b[38;5;28mself\u001b[39m\u001b[38;5;241m.\u001b[39mproxies\n\u001b[0;32m    112\u001b[0m )\n\u001b[0;32m    113\u001b[0m \u001b[38;5;28;01mif\u001b[39;00m resp\u001b[38;5;241m.\u001b[39mstatus_code \u001b[38;5;241m!=\u001b[39m \u001b[38;5;241m200\u001b[39m:\n\u001b[1;32m--> 114\u001b[0m     \u001b[38;5;28;01mraise\u001b[39;00m \u001b[38;5;167;01mException\u001b[39;00m(\n\u001b[0;32m    115\u001b[0m         \u001b[38;5;124mf\u001b[39m\u001b[38;5;124m\"\u001b[39m\u001b[38;5;124mResponse status code is not 200. Response Status is \u001b[39m\u001b[38;5;132;01m{\u001b[39;00mresp\u001b[38;5;241m.\u001b[39mstatus_code\u001b[38;5;132;01m}\u001b[39;00m\u001b[38;5;124m\"\u001b[39m\n\u001b[0;32m    116\u001b[0m     )\n\u001b[0;32m    117\u001b[0m snim0e \u001b[38;5;241m=\u001b[39m re\u001b[38;5;241m.\u001b[39msearch(\u001b[38;5;124mr\u001b[39m\u001b[38;5;124m\"\u001b[39m\u001b[38;5;124mSNlM0e\u001b[39m\u001b[38;5;130;01m\\\"\u001b[39;00m\u001b[38;5;124m:\u001b[39m\u001b[38;5;130;01m\\\"\u001b[39;00m\u001b[38;5;124m(.*?)\u001b[39m\u001b[38;5;130;01m\\\"\u001b[39;00m\u001b[38;5;124m\"\u001b[39m, resp\u001b[38;5;241m.\u001b[39mtext)\n\u001b[0;32m    118\u001b[0m \u001b[38;5;28;01mif\u001b[39;00m \u001b[38;5;129;01mnot\u001b[39;00m snim0e:\n",
      "\u001b[1;31mException\u001b[0m: Response status code is not 200. Response Status is 404"
     ]
    }
   ],
   "source": [
    "from bardapi import BardCookies\n",
    "from config import cookie_dict\n",
    "\n",
    "\n",
    "\n",
    "bard = BardCookies(cookie_dict=cookie_dict)\n",
    "\n",
    "print(bard.get_answer(\"Hello\"))"
   ]
  },
  {
   "cell_type": "code",
   "execution_count": 4,
   "metadata": {},
   "outputs": [
    {
     "ename": "Exception",
     "evalue": "No supported browser found or issue with cookie extraction",
     "output_type": "error",
     "traceback": [
      "\u001b[1;31m---------------------------------------------------------------------------\u001b[0m",
      "\u001b[1;31mException\u001b[0m                                 Traceback (most recent call last)",
      "Cell \u001b[1;32mIn[4], line 2\u001b[0m\n\u001b[0;32m      1\u001b[0m \u001b[38;5;28;01mfrom\u001b[39;00m \u001b[38;5;21;01mbardapi\u001b[39;00m \u001b[38;5;28;01mimport\u001b[39;00m Bard\n\u001b[1;32m----> 2\u001b[0m bard \u001b[38;5;241m=\u001b[39m \u001b[43mBard\u001b[49m\u001b[43m(\u001b[49m\u001b[43mtoken_from_browser\u001b[49m\u001b[38;5;241;43m=\u001b[39;49m\u001b[38;5;28;43;01mTrue\u001b[39;49;00m\u001b[43m)\u001b[49m\n",
      "File \u001b[1;32mc:\\Users\\danyb\\miniconda3\\envs\\llm\\Lib\\site-packages\\bardapi\\core.py:70\u001b[0m, in \u001b[0;36mBard.__init__\u001b[1;34m(self, token, timeout, proxies, session, conversation_id, google_translator_api_key, language, run_code, token_from_browser)\u001b[0m\n\u001b[0;32m     44\u001b[0m \u001b[38;5;28;01mdef\u001b[39;00m \u001b[38;5;21m__init__\u001b[39m(\n\u001b[0;32m     45\u001b[0m     \u001b[38;5;28mself\u001b[39m,\n\u001b[0;32m     46\u001b[0m     token: Optional[\u001b[38;5;28mstr\u001b[39m] \u001b[38;5;241m=\u001b[39m \u001b[38;5;28;01mNone\u001b[39;00m,\n\u001b[1;32m   (...)\u001b[0m\n\u001b[0;32m     54\u001b[0m     token_from_browser: \u001b[38;5;28mbool\u001b[39m \u001b[38;5;241m=\u001b[39m \u001b[38;5;28;01mFalse\u001b[39;00m,\n\u001b[0;32m     55\u001b[0m ):\n\u001b[0;32m     56\u001b[0m \u001b[38;5;250m    \u001b[39m\u001b[38;5;124;03m\"\"\"\u001b[39;00m\n\u001b[0;32m     57\u001b[0m \u001b[38;5;124;03m    Initialize the Bard instance.\u001b[39;00m\n\u001b[0;32m     58\u001b[0m \n\u001b[1;32m   (...)\u001b[0m\n\u001b[0;32m     68\u001b[0m \u001b[38;5;124;03m        token_from_browser (bool, optional, default = False): Gets a token from the browser\u001b[39;00m\n\u001b[0;32m     69\u001b[0m \u001b[38;5;124;03m    \"\"\"\u001b[39;00m\n\u001b[1;32m---> 70\u001b[0m     \u001b[38;5;28mself\u001b[39m\u001b[38;5;241m.\u001b[39mtoken \u001b[38;5;241m=\u001b[39m \u001b[38;5;28;43mself\u001b[39;49m\u001b[38;5;241;43m.\u001b[39;49m\u001b[43m_get_token\u001b[49m\u001b[43m(\u001b[49m\u001b[43mtoken\u001b[49m\u001b[43m,\u001b[49m\u001b[43m \u001b[49m\u001b[43mtoken_from_browser\u001b[49m\u001b[43m)\u001b[49m\n\u001b[0;32m     71\u001b[0m     \u001b[38;5;28mself\u001b[39m\u001b[38;5;241m.\u001b[39mproxies \u001b[38;5;241m=\u001b[39m proxies\n\u001b[0;32m     72\u001b[0m     \u001b[38;5;28mself\u001b[39m\u001b[38;5;241m.\u001b[39mtimeout \u001b[38;5;241m=\u001b[39m timeout\n",
      "File \u001b[1;32mc:\\Users\\danyb\\miniconda3\\envs\\llm\\Lib\\site-packages\\bardapi\\core.py:104\u001b[0m, in \u001b[0;36mBard._get_token\u001b[1;34m(self, token, token_from_browser)\u001b[0m\n\u001b[0;32m    102\u001b[0m     \u001b[38;5;28;01mreturn\u001b[39;00m os\u001b[38;5;241m.\u001b[39mgetenv(\u001b[38;5;124m\"\u001b[39m\u001b[38;5;124m_BARD_API_KEY\u001b[39m\u001b[38;5;124m\"\u001b[39m)\n\u001b[0;32m    103\u001b[0m \u001b[38;5;28;01melif\u001b[39;00m token_from_browser:\n\u001b[1;32m--> 104\u001b[0m     extracted_cookie_dict \u001b[38;5;241m=\u001b[39m \u001b[43mextract_bard_cookie\u001b[49m\u001b[43m(\u001b[49m\u001b[43mcookies\u001b[49m\u001b[38;5;241;43m=\u001b[39;49m\u001b[38;5;28;43;01mFalse\u001b[39;49;00m\u001b[43m)\u001b[49m\n\u001b[0;32m    105\u001b[0m     \u001b[38;5;28;01mif\u001b[39;00m \u001b[38;5;129;01mnot\u001b[39;00m extracted_cookie_dict:\n\u001b[0;32m    106\u001b[0m         \u001b[38;5;28;01mraise\u001b[39;00m \u001b[38;5;167;01mException\u001b[39;00m(\u001b[38;5;124m\"\u001b[39m\u001b[38;5;124mFailed to extract cookie from browsers.\u001b[39m\u001b[38;5;124m\"\u001b[39m)\n",
      "File \u001b[1;32mc:\\Users\\danyb\\miniconda3\\envs\\llm\\Lib\\site-packages\\bardapi\\utils.py:123\u001b[0m, in \u001b[0;36mextract_bard_cookie\u001b[1;34m(cookies)\u001b[0m\n\u001b[0;32m    120\u001b[0m         \u001b[38;5;28;01mcontinue\u001b[39;00m\n\u001b[0;32m    122\u001b[0m \u001b[38;5;28;01mif\u001b[39;00m \u001b[38;5;129;01mnot\u001b[39;00m cookie_dict:\n\u001b[1;32m--> 123\u001b[0m     \u001b[38;5;28;01mraise\u001b[39;00m \u001b[38;5;167;01mException\u001b[39;00m(\u001b[38;5;124m\"\u001b[39m\u001b[38;5;124mNo supported browser found or issue with cookie extraction\u001b[39m\u001b[38;5;124m\"\u001b[39m)\n\u001b[0;32m    125\u001b[0m \u001b[38;5;28mprint\u001b[39m(cookie_dict)\n\u001b[0;32m    126\u001b[0m \u001b[38;5;28;01mreturn\u001b[39;00m cookie_dict\n",
      "\u001b[1;31mException\u001b[0m: No supported browser found or issue with cookie extraction"
     ]
    }
   ],
   "source": [
    "from bardapi import Bard\n",
    "bard = Bard(token_from_browser=True)"
   ]
  },
  {
   "cell_type": "code",
   "execution_count": 8,
   "metadata": {},
   "outputs": [
    {
     "data": {
      "text/plain": [
       "\"General relativity is a physical theory developed by Albert Einstein in 1915 and is the current description of gravity as a geometric property of space-time. According to the theory, space and time are not absolute, but instead vary according to the presence of mass and energy. This warping of space and time is what causes the effects we experience as gravity, such as the attraction between objects and the bending of light around massive bodies.\\n\\nGeneral relativity has been extremely successful in explaining a wide range of phenomena, from the precession of Mercury's orbit to the existence of quasars. It is also the basis for our understanding of black holes and the early universe.\\n\\nAlthough Einstein's theory of special relativity has been experimentally verified to high precision, general relativity has not been as thoroughly tested. However, there is no known inconsistency with the theory, and it is considered to be one of the most successful theories in all of physics.\\n\\nThe implications of general relativity are profound. It suggests that the universe is not a rigid or static place, but is instead dynamic and ever-changing. It also suggests that gravity is not a force in the traditional sense, but is instead a curvature of spacetime. These implications have had a profound impact on our understanding of the universe, and they continue to be explored by scientists today.\""
      ]
     },
     "execution_count": 8,
     "metadata": {},
     "output_type": "execute_result"
    }
   ],
   "source": [
    "bard.get_answer('Describe me the general relativity in 300 words')['content']"
   ]
  },
  {
   "cell_type": "code",
   "execution_count": 9,
   "metadata": {},
   "outputs": [],
   "source": [
    "\n",
    "audio = bard.speech('Hello, I am Bard! How can I help you today?')\n",
    "with open(\"speech.ogg\", \"wb\") as f:\n",
    "  f.write(bytes(audio['audio']))"
   ]
  },
  {
   "cell_type": "code",
   "execution_count": null,
   "metadata": {},
   "outputs": [],
   "source": [
    "image = open('image.jpg', 'rb').read() # (jpeg, png, webp) are supported.\n",
    "bard_answer = bard.ask_about_image('What is in the image?', image)\n",
    "print(bard_answer['content'])"
   ]
  },
  {
   "cell_type": "code",
   "execution_count": 10,
   "metadata": {},
   "outputs": [
    {
     "data": {
      "text/plain": [
       "\"La capitale della Francia è Parigi.\\r\\n\\r\\nParigi è situata nella regione dell'Île-de-France, sulle rive del fiume Senna. È la città più popolosa della Francia, con una popolazione di oltre 2 milioni di abitanti all'interno dei suoi confini comunali. Tuttavia, l'area metropolitana di Parigi, che comprende anche le città di Versailles, Saint-Denis e Nanterre, conta oltre 12 milioni di abitanti.\\r\\n\\r\\nParigi è una delle città più importanti al mondo dal punto di vista politico, economico, culturale e turistico. È sede del governo francese, della Banca di Francia e di numerose istituzioni internazionali, tra cui l'UNESCO. È anche un importante centro economico, con una forte industria manifatturiera e un vivace settore dei servizi.\\r\\n\\r\\nParigi è una città ricca di storia e cultura. È sede di numerosi monumenti storici, tra cui la Torre Eiffel, il Louvre, la Cattedrale di Notre-Dame e il Sacro Cuore. È anche un importante centro culturale, con numerose gallerie d'arte, musei, teatri e concerti.\\r\\n\\r\\nParigi è una destinazione turistica popolare, con oltre 30 milioni di visitatori ogni anno.\""
      ]
     },
     "execution_count": 10,
     "metadata": {},
     "output_type": "execute_result"
    }
   ],
   "source": [
    "bard.get_answer('Qual è la capitale della Francia?')['content']"
   ]
  },
  {
   "cell_type": "code",
   "execution_count": 11,
   "metadata": {},
   "outputs": [
    {
     "ename": "KeyError",
     "evalue": "'links'",
     "output_type": "error",
     "traceback": [
      "\u001b[1;31m---------------------------------------------------------------------------\u001b[0m",
      "\u001b[1;31mKeyError\u001b[0m                                  Traceback (most recent call last)",
      "Cell \u001b[1;32mIn[11], line 2\u001b[0m\n\u001b[0;32m      1\u001b[0m res \u001b[38;5;241m=\u001b[39m bard\u001b[38;5;241m.\u001b[39mget_answer(\u001b[38;5;124m\"\u001b[39m\u001b[38;5;124mTrovami l\u001b[39m\u001b[38;5;124m'\u001b[39m\u001b[38;5;124mimmmagine di una Madonna vestita di blu\u001b[39m\u001b[38;5;124m\"\u001b[39m)\n\u001b[1;32m----> 2\u001b[0m \u001b[43mres\u001b[49m\u001b[43m[\u001b[49m\u001b[38;5;124;43m'\u001b[39;49m\u001b[38;5;124;43mlinks\u001b[39;49m\u001b[38;5;124;43m'\u001b[39;49m\u001b[43m]\u001b[49m \u001b[38;5;66;03m# Get image links (list)\u001b[39;00m\n\u001b[0;32m      3\u001b[0m res[\u001b[38;5;124m'\u001b[39m\u001b[38;5;124mimages\u001b[39m\u001b[38;5;124m'\u001b[39m] \u001b[38;5;66;03m# Get images (list)\u001b[39;00m\n",
      "\u001b[1;31mKeyError\u001b[0m: 'links'"
     ]
    }
   ],
   "source": [
    "res = bard.get_answer(\"Trovami l'immmagine di una Madonna vestita di blu\")\n",
    "res['links'] # Get image links (list)\n",
    "res['images'] # Get images (list)"
   ]
  },
  {
   "cell_type": "code",
   "execution_count": 12,
   "metadata": {},
   "outputs": [
    {
     "data": {
      "text/plain": [
       "{'content': 'Response Error: b\\')]}\\\\\\'\\\\n\\\\n38\\\\n[[\"wrb.fr\",null,null,null,null,[7]]]\\\\n54\\\\n[[\"di\",65],[\"af.httprm\",65,\"715207936313652052\",24]]\\\\n25\\\\n[[\"e\",4,null,null,129]]\\\\n\\'. \\nUnable to get response.\\nPlease double-check the cookie values and verify your network environment or google account.'}"
      ]
     },
     "execution_count": 12,
     "metadata": {},
     "output_type": "execute_result"
    }
   ],
   "source": [
    "res"
   ]
  }
 ],
 "metadata": {
  "kernelspec": {
   "display_name": "Python 3",
   "language": "python",
   "name": "python3"
  },
  "language_info": {
   "codemirror_mode": {
    "name": "ipython",
    "version": 3
   },
   "file_extension": ".py",
   "mimetype": "text/x-python",
   "name": "python",
   "nbconvert_exporter": "python",
   "pygments_lexer": "ipython3",
   "version": "3.11.5"
  }
 },
 "nbformat": 4,
 "nbformat_minor": 2
}
